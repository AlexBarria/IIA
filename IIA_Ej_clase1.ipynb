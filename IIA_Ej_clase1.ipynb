{
 "cells": [
  {
   "cell_type": "code",
   "execution_count": 411,
   "id": "fc20b8e4",
   "metadata": {},
   "outputs": [],
   "source": [
    "import numpy as np\n",
    "import matplotlib.pyplot as plt"
   ]
  },
  {
   "cell_type": "markdown",
   "id": "f6988f2f",
   "metadata": {},
   "source": [
    "# **Ejercicio 3**"
   ]
  },
  {
   "cell_type": "code",
   "execution_count": 9,
   "id": "47f40fc6",
   "metadata": {},
   "outputs": [],
   "source": [
    "users_idx = np.array([15, 12, 14, 10, 1, 2, 1], dtype = 'uint8')\n",
    "users_id = np.array(np.arange(0, len(users_idx)), dtype = 'uint8')"
   ]
  },
  {
   "cell_type": "code",
   "execution_count": 12,
   "id": "db82fef6",
   "metadata": {},
   "outputs": [
    {
     "name": "stdout",
     "output_type": "stream",
     "text": [
      "Identificadores de usuarios: [15 12 14 10  1  2  1]\n",
      "Índices de usuarios: [0 1 2 3 4 5 6]\n"
     ]
    }
   ],
   "source": [
    "print('Identificadores de usuarios: ' + str(users_idx))\n",
    "print('Índices de usuarios: ' + str(users_id))"
   ]
  },
  {
   "cell_type": "code",
   "execution_count": 42,
   "id": "6efe9cd4",
   "metadata": {},
   "outputs": [],
   "source": [
    "class indexing(object):\n",
    "    def __new__ (cls, identificadores):\n",
    "        print(\"_new_\")\n",
    "        return super(indexing, cls).__new__(cls)\n",
    "    \n",
    "    def __init__ (self, identificadores):\n",
    "        self.ids = identificadores\n",
    "        self.index = np.arange(0, len(identificadores))\n",
    "        print(\"_init_\")\n",
    "        \n",
    "    def get_user_id(self, user_index):\n",
    "        if user_index < len(self.ids):\n",
    "            return self.ids[user_index]\n",
    "        else: print(\"ERROR: El índice solicitado esta fuera del rango de usuarios\")\n",
    "    def get_user_index(self, user_id):\n",
    "        if user_id in self.ids:\n",
    "            return self.index[np.where(self.ids == user_id)]\n",
    "        else: print(\"ERROR: El ID solicitado no se encuentra en la lista de usuarios\")\n",
    "        "
   ]
  },
  {
   "cell_type": "code",
   "execution_count": 43,
   "id": "6b3abf35",
   "metadata": {},
   "outputs": [
    {
     "name": "stdout",
     "output_type": "stream",
     "text": [
      "_new_\n",
      "_init_\n"
     ]
    }
   ],
   "source": [
    "clase_1 = indexing(np.array([0, 5, 6, 8]))"
   ]
  },
  {
   "cell_type": "code",
   "execution_count": 29,
   "id": "d64ed329",
   "metadata": {},
   "outputs": [
    {
     "name": "stdout",
     "output_type": "stream",
     "text": [
      "[0 5 6 8]\n"
     ]
    }
   ],
   "source": [
    "print(clase_1.ids)"
   ]
  },
  {
   "cell_type": "code",
   "execution_count": 30,
   "id": "bf3b89fa",
   "metadata": {
    "scrolled": true
   },
   "outputs": [
    {
     "name": "stdout",
     "output_type": "stream",
     "text": [
      "[0 1 2 3]\n"
     ]
    }
   ],
   "source": [
    "print(clase_1.index)"
   ]
  },
  {
   "cell_type": "code",
   "execution_count": 44,
   "id": "f52cbdc3",
   "metadata": {},
   "outputs": [
    {
     "name": "stdout",
     "output_type": "stream",
     "text": [
      "Con el índice: 3 el identificador es: 8\n"
     ]
    }
   ],
   "source": [
    "indice = 3\n",
    "print(\"Con el índice: \" + str(indice) + \" el identificador es: \" + str(clase_1.get_user_id(indice)))"
   ]
  },
  {
   "cell_type": "code",
   "execution_count": 48,
   "id": "b550605a",
   "metadata": {},
   "outputs": [
    {
     "name": "stdout",
     "output_type": "stream",
     "text": [
      "ERROR: El índice solicitado esta fuera del rango de usuarios\n"
     ]
    }
   ],
   "source": [
    "clase_1.get_user_id(4000)"
   ]
  },
  {
   "cell_type": "code",
   "execution_count": 45,
   "id": "0ba5b5d5",
   "metadata": {},
   "outputs": [
    {
     "name": "stdout",
     "output_type": "stream",
     "text": [
      "Con el identificador: 8 el índice es: [3]\n"
     ]
    }
   ],
   "source": [
    "identificador = 8\n",
    "print(\"Con el identificador: \" + str(identificador) + \" el índice es: \" + str(clase_1.get_user_index(identificador)))"
   ]
  },
  {
   "cell_type": "code",
   "execution_count": 40,
   "id": "a4dd2a62",
   "metadata": {
    "scrolled": true
   },
   "outputs": [
    {
     "name": "stdout",
     "output_type": "stream",
     "text": [
      "El ID solicitado no se encuentra en la lista de usuarios\n"
     ]
    }
   ],
   "source": [
    "clase_1.get_user_index(20)"
   ]
  },
  {
   "cell_type": "markdown",
   "id": "7eecc36a",
   "metadata": {},
   "source": [
    "# **Ejercicio 4**"
   ]
  },
  {
   "cell_type": "code",
   "execution_count": 21,
   "id": "49fee40d",
   "metadata": {},
   "outputs": [],
   "source": [
    "def calc_TP(truth, prediction):\n",
    "    return np.sum(truth & prediction)\n",
    "\n",
    "def calc_TN(truth, prediction):\n",
    "    return len(truth) - np.sum(truth | prediction)\n",
    "\n",
    "def calc_FP(truth, prediction):\n",
    "    return np.sum((T != P) & P)\n",
    "\n",
    "def calc_FN(truth, prediction):\n",
    "    return np.sum((T != P) & T)\n",
    "\n",
    "def calc_precision(truth, prediction):\n",
    "    TP = calc_TP(truth, prediction)\n",
    "    FP = calc_FP(truth, prediction)\n",
    "    return TP/(TP + FP)\n",
    "\n",
    "def calc_recall(truth, prediction):\n",
    "    TP = calc_TP(truth, prediction)\n",
    "    FN = calc_FN(truth, prediction)\n",
    "    return TP/(TP + FN)\n",
    "\n",
    "def calc_accuracy(truth, prediction):\n",
    "    TP = calc_TP(truth, prediction)\n",
    "    TN = calc_TN(truth, prediction)\n",
    "    FP = calc_FP(truth, prediction)\n",
    "    FN = calc_FN(truth, prediction)\n",
    "    return (TP + TN)/(TP + TN + FP + FN)"
   ]
  },
  {
   "cell_type": "code",
   "execution_count": 14,
   "id": "795f33cf",
   "metadata": {},
   "outputs": [],
   "source": [
    "T = np.array([1, 1, 0, 1, 1, 1, 0, 0, 0, 1])\n",
    "P = np.array([1, 1, 1, 1, 0, 0, 1, 1, 0, 0])"
   ]
  },
  {
   "cell_type": "code",
   "execution_count": 15,
   "id": "4e814bd1",
   "metadata": {},
   "outputs": [
    {
     "data": {
      "text/plain": [
       "3"
      ]
     },
     "execution_count": 15,
     "metadata": {},
     "output_type": "execute_result"
    }
   ],
   "source": [
    "calc_TP(T,P)"
   ]
  },
  {
   "cell_type": "code",
   "execution_count": 16,
   "id": "b8ed4b5c",
   "metadata": {},
   "outputs": [
    {
     "data": {
      "text/plain": [
       "1"
      ]
     },
     "execution_count": 16,
     "metadata": {},
     "output_type": "execute_result"
    }
   ],
   "source": [
    "calc_TN(T,P)"
   ]
  },
  {
   "cell_type": "code",
   "execution_count": 17,
   "id": "30e29e0c",
   "metadata": {},
   "outputs": [
    {
     "data": {
      "text/plain": [
       "3"
      ]
     },
     "execution_count": 17,
     "metadata": {},
     "output_type": "execute_result"
    }
   ],
   "source": [
    "calc_FP(T,P)"
   ]
  },
  {
   "cell_type": "code",
   "execution_count": 18,
   "id": "a5ab7b32",
   "metadata": {},
   "outputs": [
    {
     "data": {
      "text/plain": [
       "3"
      ]
     },
     "execution_count": 18,
     "metadata": {},
     "output_type": "execute_result"
    }
   ],
   "source": [
    "calc_FN(T,P)"
   ]
  },
  {
   "cell_type": "code",
   "execution_count": 20,
   "id": "eb7296a8",
   "metadata": {},
   "outputs": [
    {
     "data": {
      "text/plain": [
       "0.5"
      ]
     },
     "execution_count": 20,
     "metadata": {},
     "output_type": "execute_result"
    }
   ],
   "source": [
    "calc_precision(T,P)"
   ]
  },
  {
   "cell_type": "code",
   "execution_count": 22,
   "id": "aa0a4842",
   "metadata": {},
   "outputs": [
    {
     "data": {
      "text/plain": [
       "0.5"
      ]
     },
     "execution_count": 22,
     "metadata": {},
     "output_type": "execute_result"
    }
   ],
   "source": [
    "calc_recall(T,P)"
   ]
  },
  {
   "cell_type": "code",
   "execution_count": 23,
   "id": "1a80f2a2",
   "metadata": {},
   "outputs": [
    {
     "data": {
      "text/plain": [
       "0.4"
      ]
     },
     "execution_count": 23,
     "metadata": {},
     "output_type": "execute_result"
    }
   ],
   "source": [
    "calc_accuracy(T,P)"
   ]
  },
  {
   "cell_type": "markdown",
   "id": "8e1a5a7f",
   "metadata": {},
   "source": [
    "# Ejercicio 6"
   ]
  },
  {
   "cell_type": "code",
   "execution_count": 143,
   "id": "b3f7a648",
   "metadata": {},
   "outputs": [],
   "source": [
    "def distance(x1, x2):\n",
    "    return np.sum(( x1 - x2 ) ** 2, axis = -1) ** 0.5"
   ]
  },
  {
   "cell_type": "code",
   "execution_count": 136,
   "id": "4d5b3203",
   "metadata": {},
   "outputs": [],
   "source": [
    "X = np.reshape(np.arange(1,10), (3,3))\n",
    "C = np.array([[1, 0, 0], [0, 1, 1]])"
   ]
  },
  {
   "cell_type": "code",
   "execution_count": 137,
   "id": "8b1b7e3f",
   "metadata": {},
   "outputs": [
    {
     "name": "stdout",
     "output_type": "stream",
     "text": [
      "[[1 2 3]\n",
      " [4 5 6]\n",
      " [7 8 9]]\n",
      "[[1 0 0]\n",
      " [0 1 1]]\n"
     ]
    }
   ],
   "source": [
    "print(X)\n",
    "print(C)"
   ]
  },
  {
   "cell_type": "code",
   "execution_count": 138,
   "id": "77a0a7e0",
   "metadata": {},
   "outputs": [],
   "source": [
    "C2 = C.reshape((2, 1, 3))"
   ]
  },
  {
   "cell_type": "code",
   "execution_count": 140,
   "id": "2a0ab6b9",
   "metadata": {},
   "outputs": [
    {
     "data": {
      "text/plain": [
       "(3, 3)"
      ]
     },
     "execution_count": 140,
     "metadata": {},
     "output_type": "execute_result"
    }
   ],
   "source": [
    "X.shape"
   ]
  },
  {
   "cell_type": "code",
   "execution_count": 141,
   "id": "b18cec45",
   "metadata": {},
   "outputs": [
    {
     "data": {
      "text/plain": [
       "(2, 1, 3)"
      ]
     },
     "execution_count": 141,
     "metadata": {},
     "output_type": "execute_result"
    }
   ],
   "source": [
    "C2.shape"
   ]
  },
  {
   "cell_type": "code",
   "execution_count": 146,
   "id": "2d64782a",
   "metadata": {},
   "outputs": [
    {
     "data": {
      "text/plain": [
       "array([[ 3.60555128,  8.36660027, 13.45362405],\n",
       "       [ 2.44948974,  7.54983444, 12.72792206]])"
      ]
     },
     "execution_count": 146,
     "metadata": {},
     "output_type": "execute_result"
    }
   ],
   "source": [
    "distance(X,C2)"
   ]
  },
  {
   "cell_type": "markdown",
   "id": "d849d1cc",
   "metadata": {},
   "source": [
    "# Ejercicio 7"
   ]
  },
  {
   "cell_type": "code",
   "execution_count": 332,
   "id": "cc510911",
   "metadata": {},
   "outputs": [],
   "source": [
    "def cluster_clas(points, centroids):\n",
    "    \n",
    "    C_r = centroids.reshape((centroids.shape[0], 1, centroids.shape[1]))\n",
    "    dist = distance(points, C_r)\n",
    "    \n",
    "    return np.argmin(dist, axis = 0)    "
   ]
  },
  {
   "cell_type": "code",
   "execution_count": 178,
   "id": "5e100a04",
   "metadata": {},
   "outputs": [
    {
     "data": {
      "text/plain": [
       "array([1, 1, 1], dtype=int64)"
      ]
     },
     "execution_count": 178,
     "metadata": {},
     "output_type": "execute_result"
    }
   ],
   "source": [
    "cluster_clas(X,C)"
   ]
  },
  {
   "cell_type": "markdown",
   "id": "30d22f20",
   "metadata": {},
   "source": [
    "# Ejercicio 8"
   ]
  },
  {
   "cell_type": "code",
   "execution_count": 337,
   "id": "cdb9b0e1",
   "metadata": {},
   "outputs": [
    {
     "data": {
      "text/plain": [
       "3"
      ]
     },
     "execution_count": 337,
     "metadata": {},
     "output_type": "execute_result"
    }
   ],
   "source": [
    "X = np.reshape(np.arange(1,31), (10, 3))\n",
    "X.shape[1]"
   ]
  },
  {
   "cell_type": "code",
   "execution_count": 459,
   "id": "9f70771d",
   "metadata": {},
   "outputs": [],
   "source": [
    "def k_means(points, n_clusters):\n",
    "    centroids = points[np.random.choice(np.arange(0, len(points)), n_clusters, replace = False)]\n",
    "    for i in np.arange(0,5):\n",
    "        labels = cluster_clas(points, centroids)\n",
    "        clusters = np.concatenate((points , labels.reshape(len(points[:,0]),1)), axis = -1)\n",
    "        \n",
    "        for i in np.unique(labels):       \n",
    "            centroids [i] = np.average(clusters[clusters[:,-1]==i][:,0:-1], axis = 0)\n",
    "          \n",
    "    return clusters, centroids"
   ]
  },
  {
   "cell_type": "code",
   "execution_count": 338,
   "id": "ddcbc61e",
   "metadata": {},
   "outputs": [
    {
     "data": {
      "text/plain": [
       "array([[ 1,  2,  3],\n",
       "       [ 4,  5,  6],\n",
       "       [ 7,  8,  9],\n",
       "       [10, 11, 12],\n",
       "       [13, 14, 15],\n",
       "       [16, 17, 18],\n",
       "       [19, 20, 21],\n",
       "       [22, 23, 24],\n",
       "       [25, 26, 27],\n",
       "       [28, 29, 30]])"
      ]
     },
     "execution_count": 338,
     "metadata": {},
     "output_type": "execute_result"
    }
   ],
   "source": [
    "X"
   ]
  },
  {
   "cell_type": "code",
   "execution_count": 399,
   "id": "6051cad6",
   "metadata": {},
   "outputs": [
    {
     "name": "stdout",
     "output_type": "stream",
     "text": [
      "[[ 1  2  3  1]\n",
      " [ 4  5  6  1]\n",
      " [ 7  8  9  1]\n",
      " [10 11 12  0]\n",
      " [13 14 15  0]\n",
      " [16 17 18  0]\n",
      " [19 20 21  0]\n",
      " [22 23 24  0]\n",
      " [25 26 27  0]\n",
      " [28 29 30  0]]\n",
      "[[ 1  2  3  0]\n",
      " [ 4  5  6  0]\n",
      " [ 7  8  9  0]\n",
      " [10 11 12  0]\n",
      " [13 14 15  0]\n",
      " [16 17 18  0]\n",
      " [19 20 21  0]\n",
      " [22 23 24  0]\n",
      " [25 26 27  0]\n",
      " [28 29 30  0]]\n",
      "[[ 1  2  3  0]\n",
      " [ 4  5  6  1]\n",
      " [ 7  8  9  1]\n",
      " [10 11 12  1]\n",
      " [13 14 15  1]\n",
      " [16 17 18  1]\n",
      " [19 20 21  1]\n",
      " [22 23 24  1]\n",
      " [25 26 27  1]\n",
      " [28 29 30  1]]\n",
      "[[ 1  2  3  0]\n",
      " [ 4  5  6  0]\n",
      " [ 7  8  9  0]\n",
      " [10 11 12  0]\n",
      " [13 14 15  0]\n",
      " [16 17 18  0]\n",
      " [19 20 21  0]\n",
      " [22 23 24  0]\n",
      " [25 26 27  0]\n",
      " [28 29 30  0]]\n",
      "[[ 1  2  3  0]\n",
      " [ 4  5  6  0]\n",
      " [ 7  8  9  0]\n",
      " [10 11 12  1]\n",
      " [13 14 15  1]\n",
      " [16 17 18  1]\n",
      " [19 20 21  1]\n",
      " [22 23 24  1]\n",
      " [25 26 27  1]\n",
      " [28 29 30  1]]\n"
     ]
    },
    {
     "name": "stderr",
     "output_type": "stream",
     "text": [
      "C:\\Users\\alexb\\anaconda3\\lib\\site-packages\\numpy\\lib\\function_base.py:380: RuntimeWarning: Mean of empty slice.\n",
      "  avg = a.mean(axis)\n",
      "C:\\Users\\alexb\\anaconda3\\lib\\site-packages\\numpy\\core\\_methods.py:180: RuntimeWarning: invalid value encountered in true_divide\n",
      "  ret = um.true_divide(\n"
     ]
    }
   ],
   "source": [
    "aux = k_means(X,2)"
   ]
  },
  {
   "cell_type": "markdown",
   "id": "722ba036",
   "metadata": {},
   "source": [
    "# Genero un data set sintético a partir de N puntos aleatorios"
   ]
  },
  {
   "cell_type": "code",
   "execution_count": null,
   "id": "820c6eff",
   "metadata": {},
   "outputs": [],
   "source": [
    "def clusters_synth_gen(n_clusters, var, random_seed):\n",
    "    clusters = np.array\n",
    "    for i in "
   ]
  },
  {
   "cell_type": "code",
   "execution_count": 400,
   "id": "0bf8486c",
   "metadata": {},
   "outputs": [],
   "source": [
    "centroid = np.random.rand(1, 3)"
   ]
  },
  {
   "cell_type": "code",
   "execution_count": 435,
   "id": "664e1d70",
   "metadata": {},
   "outputs": [],
   "source": [
    "cluster_synth1 = np.random.normal(0,0.65,(500,2)) + np.array([5, 5])\n",
    "cluster_synth2 = np.random.normal(0,0.65,(500,2)) + np.array([3, 3])\n",
    "clusters_synth = np.concatenate((cluster_synth1, cluster_synth2), axis = 0)"
   ]
  },
  {
   "cell_type": "code",
   "execution_count": 436,
   "id": "3fc83cad",
   "metadata": {
    "scrolled": true
   },
   "outputs": [
    {
     "data": {
      "text/plain": [
       "<matplotlib.collections.PathCollection at 0x1f9c79d6fa0>"
      ]
     },
     "execution_count": 436,
     "metadata": {},
     "output_type": "execute_result"
    },
    {
     "data": {
      "image/png": "[encoded data removed]",
      "text/plain": [
       "<Figure size 432x288 with 1 Axes>"
      ]
     },
     "metadata": {
      "needs_background": "light"
     },
     "output_type": "display_data"
    }
   ],
   "source": [
    "plt.scatter(clusters_synth[:,0], clusters_synth[:,1])"
   ]
  },
  {
   "cell_type": "code",
   "execution_count": 457,
   "id": "716feff8",
   "metadata": {},
   "outputs": [
    {
     "name": "stdout",
     "output_type": "stream",
     "text": [
      "[[2.92569796 4.21331827]\n",
      " [2.62744278 2.00630796]]\n",
      "0\n",
      "1\n",
      "[[4.42955419 4.52598752]\n",
      " [2.89953353 2.53143913]]\n",
      "0\n",
      "1\n",
      "[[4.90137885 4.86429062]\n",
      " [2.92652457 2.91181203]]\n",
      "0\n",
      "1\n",
      "[[5.02091486 4.96896194]\n",
      " [2.9999712  2.998265  ]]\n",
      "0\n",
      "1\n",
      "[[5.04051886 4.98690518]\n",
      " [3.01676107 3.01579677]]\n",
      "0\n",
      "1\n"
     ]
    }
   ],
   "source": [
    "aux = k_means(clusters_synth,2)"
   ]
  },
  {
   "cell_type": "code",
   "execution_count": 443,
   "id": "7784fd84",
   "metadata": {},
   "outputs": [
    {
     "data": {
      "text/plain": [
       "array([[4.41646882, 4.52260735, 0.        ],\n",
       "       [4.73320461, 5.56384941, 0.        ],\n",
       "       [5.13107213, 5.93667815, 0.        ],\n",
       "       ...,\n",
       "       [3.56901004, 2.54342664, 0.        ],\n",
       "       [2.18811969, 3.4807299 , 0.        ],\n",
       "       [2.99120111, 2.65889867, 0.        ]])"
      ]
     },
     "execution_count": 443,
     "metadata": {},
     "output_type": "execute_result"
    }
   ],
   "source": [
    "aux[20:]"
   ]
  },
  {
   "cell_type": "code",
   "execution_count": 455,
   "id": "25363e88",
   "metadata": {},
   "outputs": [
    {
     "data": {
      "text/plain": [
       "Text(0, 0.5, 'V2')"
      ]
     },
     "execution_count": 455,
     "metadata": {},
     "output_type": "execute_result"
    },
    {
     "data": {
      "image/png": "[encoded data removed]",
      "text/plain": [
       "<Figure size 1080x720 with 1 Axes>"
      ]
     },
     "metadata": {
      "needs_background": "light"
     },
     "output_type": "display_data"
    }
   ],
   "source": [
    "fig, ax = plt.subplots(figsize=(15,10))\n",
    "\n",
    "ax.scatter(aux[aux[:,-1]==0][:,0], aux[aux[:,-1]==0][:,1], alpha=0.5, c='skyblue', label='1')\n",
    "ax.scatter(aux[aux[:,-1]==1][:,0], aux[aux[:,-1]==1][:,1], c='red', label='-1')\n",
    "  \n",
    "\n",
    "ax.legend()\n",
    "\n",
    "ax.set_xlabel('V1')\n",
    "ax.set_ylabel('V2')"
   ]
  },
  {
   "cell_type": "code",
   "execution_count": 458,
   "id": "8d6cf71a",
   "metadata": {},
   "outputs": [
    {
     "data": {
      "text/plain": [
       "Text(0, 0.5, 'V2')"
      ]
     },
     "execution_count": 458,
     "metadata": {},
     "output_type": "execute_result"
    },
    {
     "data": {
      "image/png": "[encoded data removed]",
      "text/plain": [
       "<Figure size 1080x720 with 1 Axes>"
      ]
     },
     "metadata": {
      "needs_background": "light"
     },
     "output_type": "display_data"
    }
   ],
   "source": [
    "fig, ax = plt.subplots(figsize=(15,10))\n",
    "\n",
    "ax.scatter(aux[aux[:,-1]==0][:,0], aux[aux[:,-1]==0][:,1], alpha=0.5, c='skyblue', label='1')\n",
    "ax.scatter(aux[aux[:,-1]==1][:,0], aux[aux[:,-1]==1][:,1], c='red', label='-1')\n",
    "  \n",
    "\n",
    "ax.legend()\n",
    "\n",
    "ax.set_xlabel('V1')\n",
    "ax.set_ylabel('V2')"
   ]
  }
 ],
 "metadata": {
  "kernelspec": {
   "display_name": "Python 3",
   "language": "python",
   "name": "python3"
  },
  "language_info": {
   "codemirror_mode": {
    "name": "ipython",
    "version": 3
   },
   "file_extension": ".py",
   "mimetype": "text/x-python",
   "name": "python",
   "nbconvert_exporter": "python",
   "pygments_lexer": "ipython3",
   "version": "3.8.8"
  }
 },
 "nbformat": 4,
 "nbformat_minor": 5
}
